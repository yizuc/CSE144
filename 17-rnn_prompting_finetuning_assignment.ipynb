{
  "cells": [
    {
      "cell_type": "markdown",
      "metadata": {
        "id": "n94fTFdhz4lI"
      },
      "source": [
        "# Introduction\n",
        "\n",
        "This homework assignment aims to provide hands-on experience with three different approaches in natural language processing: RNN model training, prompting a pretrained language model, and fine-tuning a language model. The task is to classify news category in text using the AG News dataset available at Hugging Face.\n",
        "\n",
        "https://huggingface.co/datasets/ag_news"
      ]
    },
    {
      "cell_type": "markdown",
      "metadata": {
        "id": "naEFoNh83umj"
      },
      "source": [
        "## Data set\n",
        "\n",
        "* Utilize the Ag News dataset from Hugging Face.\n",
        "* You will apply three approaches to classify news category including **world**, **sports**, **sci/tech**, and **business** from textual data.\n",
        "* More details about the dataset can be found at the provided link.\n"
      ]
    },
    {
      "cell_type": "markdown",
      "metadata": {
        "id": "y7VpgHnxtAhQ"
      },
      "source": [
        "## Three approaches\n",
        "\n",
        "In this assignment, you will apply three distinct NLP approaches to classify news category from textual data. Each approach should be executable within the Google Colab environment."
      ]
    },
    {
      "cell_type": "markdown",
      "source": [
        "# Train a RNN model (>85% accuracy on test set for full credit)\n",
        "\n",
        "* Introduction: Recurrent Neural Networks (RNNs) are powerful for sequence modeling and have been extensively used in NLP for tasks like text classification.\n",
        "* Task: Train a RNN to classify news category.\n",
        "* Details: Implement and train an RNN using PyTorch. The architecture should include an embedding layer, one or more RNN layers, and a dense output layer for classification.\n",
        "* Model Flexibility: You are free to choose or modify any RNN architecture (e.g., LSTM, GRU) as long as it is compatible with Colab."
      ],
      "metadata": {
        "id": "iCuiGpbyd2uK"
      }
    },
    {
      "cell_type": "markdown",
      "source": [
        "## Install dependency"
      ],
      "metadata": {
        "id": "oRGD2XDyIx-Y"
      }
    },
    {
      "cell_type": "code",
      "source": [
        "!pip install datasets"
      ],
      "metadata": {
        "id": "5vZY0PQ1WyMq"
      },
      "execution_count": null,
      "outputs": []
    },
    {
      "cell_type": "markdown",
      "source": [
        "## Load and prepare the dataset"
      ],
      "metadata": {
        "id": "LFcsQ9X3I0Kz"
      }
    },
    {
      "cell_type": "code",
      "source": [
        "from datasets import load_dataset\n",
        "from transformers import AutoTokenizer\n",
        "import torch\n",
        "from torch.utils.data import DataLoader, random_split\n",
        "import torch.nn as nn\n",
        "from tqdm import tqdm\n",
        "\n",
        "# Check if a GPU is available and choose device accordingly\n",
        "device = torch.device(\"cuda\" if torch.cuda.is_available() else \"cpu\")\n",
        "print(\"You are currently using: \", device)\n",
        "\n",
        "# Load and tokenize the dataset\n",
        "def load_and_preprocess_data():\n",
        "    dataset = load_dataset('ag_news')\n",
        "    tokenizer = AutoTokenizer.from_pretrained('bert-base-uncased')\n",
        "\n",
        "    ##### Your implementation starts here #####\n",
        "    # tokenization\n",
        "\n",
        "    ##### Your implementation ends here #####\n",
        "\n",
        "    # Splitting the training dataset into training and validation\n",
        "    train_size = int(0.9 * len(tokenized_datasets['train']))\n",
        "    val_size = len(tokenized_datasets['train']) - train_size\n",
        "    train_dataset, val_dataset = random_split(tokenized_datasets['train'], [train_size, val_size])\n",
        "\n",
        "    return train_dataset, val_dataset, tokenized_datasets['test']\n",
        "\n",
        "train_dataset, val_dataset, test_dataset = load_and_preprocess_data()\n",
        "\n",
        "# Data loaders\n",
        "train_loader = DataLoader(train_dataset, batch_size=32, shuffle=True, pin_memory=True)\n",
        "validation_loader = DataLoader(val_dataset, batch_size=32, shuffle=False, pin_memory=True)\n",
        "test_loader = DataLoader(test_dataset, batch_size=32, shuffle=False, pin_memory=True)"
      ],
      "metadata": {
        "id": "c2r0PFgFWzBG"
      },
      "execution_count": null,
      "outputs": []
    },
    {
      "cell_type": "markdown",
      "source": [
        "## Define the RNN model"
      ],
      "metadata": {
        "id": "4nTChqNwI_0N"
      }
    },
    {
      "cell_type": "code",
      "source": [
        "# Define the RNN Classifier\n",
        "class RNNClassifier(nn.Module):\n",
        "    def __init__(self, input_dim, embedding_dim, hidden_dim, output_dim, rnn_type=\"GRU\", num_layers=2, bidirectional=True, dropout=0.5):\n",
        "        super(RNNClassifier, self).__init__()\n",
        "        self.embedding = nn.Embedding(input_dim, embedding_dim)\n",
        "        self.dropout = nn.Dropout(dropout)\n",
        "        self.rnn = nn.GRU(embedding_dim, hidden_dim, num_layers=num_layers,\n",
        "                          batch_first=True, bidirectional=bidirectional, dropout=dropout if num_layers > 1 else 0)\n",
        "        self.fc = nn.Linear(hidden_dim * 2 if bidirectional else hidden_dim, output_dim)\n",
        "\n",
        "    def forward(self, text):\n",
        "        embedded = self.dropout(self.embedding(text))\n",
        "        output, _ = self.rnn(embedded)\n",
        "        hidden = output[:, -1, :]  # Get the last hidden state\n",
        "        return self.fc(hidden)\n",
        "\n",
        "##### Your implementation starts here #####\n",
        "# Define the model hyperparameter\n",
        "\n",
        "##### Your implementation ends here #####"
      ],
      "metadata": {
        "id": "BrFWQ4q4I-Hr"
      },
      "execution_count": null,
      "outputs": []
    },
    {
      "cell_type": "markdown",
      "source": [
        "## Training and evaluation functions"
      ],
      "metadata": {
        "id": "jjX_uXZtJR1N"
      }
    },
    {
      "cell_type": "code",
      "source": [
        "# Training and evaluation functions\n",
        "def train_model(model, data_loader, optimizer, criterion, device):\n",
        "    model.train()\n",
        "    total_loss = 0\n",
        "    for batch in tqdm(data_loader):\n",
        "        ##### Your implementation starts here #####\n",
        "        # batch processing\n",
        "        # [hint] make sure data are on the correct device (i.e., GPU or CPU)\n",
        "\n",
        "        ##### Your implementation ends here #####\n",
        "    return total_loss / len(data_loader)\n",
        "\n",
        "def evaluate_model(model, data_loader, criterion, device):\n",
        "    model.eval()\n",
        "    total_loss = 0\n",
        "    total_correct = 0\n",
        "    with torch.no_grad():\n",
        "        for batch in data_loader:\n",
        "            batch = {k: v.to(device) for k, v in batch.items()}\n",
        "            predictions = model(batch['input_ids'])\n",
        "            loss = criterion(predictions, batch['label'])\n",
        "            total_loss += loss.item()\n",
        "            preds = predictions.argmax(dim=1)\n",
        "            total_correct += (preds == batch['label']).sum().item()\n",
        "    avg_loss = total_loss / len(data_loader)\n",
        "    accuracy = total_correct / len(data_loader.dataset)\n",
        "    return avg_loss, accuracy"
      ],
      "metadata": {
        "id": "Bl_qveq5JRY-"
      },
      "execution_count": null,
      "outputs": []
    },
    {
      "cell_type": "markdown",
      "source": [
        "## Main training loop"
      ],
      "metadata": {
        "id": "dCt6aYBoJPSJ"
      }
    },
    {
      "cell_type": "code",
      "source": [
        "# Main training loop\n",
        "\n",
        "##### Your Optional implementation starts here #####\n",
        "# You are allowed to change the training epoch\n",
        "num_epochs = 3\n",
        "\n",
        "##### Your Optional implementation ends here #####\n",
        "\n",
        "for epoch in range(num_epochs):\n",
        "    train_loss = train_model(model, train_loader, optimizer, criterion, device)\n",
        "    val_loss, val_accuracy = evaluate_model(model, validation_loader, criterion, device)\n",
        "    print(f'Epoch {epoch+1}, Train Loss: {train_loss:.4f}, Validation Loss: {val_loss:.4f}, Validation Accuracy: {val_accuracy:.4f}')\n",
        "\n",
        "test_loss, test_accuracy = evaluate_model(model, test_loader, criterion, device)\n",
        "print(f'Test Loss: {test_loss:.4f}, Test Accuracy: {test_accuracy:.4f}')"
      ],
      "metadata": {
        "id": "nxju2qdWJOq5"
      },
      "execution_count": null,
      "outputs": []
    },
    {
      "cell_type": "markdown",
      "source": [
        "# 2. Prompting a pretrained LM (>50% accuracy on test set for full credit)\n",
        "\n",
        "* Introduction: Prompting involves adapting a pre-trained model to a specific task without extensive retraining, leveraging the model's existing knowledge.\n",
        "* Task: Use zero-shot learning by prompting a pretrained language model.\n",
        "* Details: Utilize a pre trained language model to generate predictions based on prompts. Craft three different prompts to evaluate how well the model can infer the correct emotion.\n",
        "* Model Flexibility: Any pretrained model available via libraries like Hugging Face’s Transformers that runs on Google Colab can be used."
      ],
      "metadata": {
        "id": "doFwqYZNeC3U"
      }
    },
    {
      "cell_type": "markdown",
      "source": [
        "## Install dependency"
      ],
      "metadata": {
        "id": "OrB4iUblJk7-"
      }
    },
    {
      "cell_type": "code",
      "source": [
        "!pip install datasets"
      ],
      "metadata": {
        "id": "OT_5LluUeCRM"
      },
      "execution_count": null,
      "outputs": []
    },
    {
      "cell_type": "markdown",
      "source": [
        "## Load data set and the pretrained language model"
      ],
      "metadata": {
        "id": "wtUYLtwYJtwN"
      }
    },
    {
      "cell_type": "code",
      "source": [
        "import torch\n",
        "from datasets import load_dataset\n",
        "from transformers import AutoTokenizer, AutoModelForMaskedLM\n",
        "from sentence_transformers import SentenceTransformer\n",
        "import numpy as np\n",
        "from sklearn.metrics import f1_score, accuracy_score\n",
        "from sklearn.metrics.pairwise import cosine_similarity\n",
        "from tqdm import tqdm\n",
        "\n",
        "# Check device: GPU if available, otherwise CPU\n",
        "device = torch.device(\"cuda\" if torch.cuda.is_available() else \"cpu\")\n",
        "print(\"Using device:\", device)\n",
        "\n",
        "# Load the AG News dataset\n",
        "dataset = load_dataset('ag_news')\n",
        "\n",
        "# Initialize tokenizer and model for masked language model prediction\n",
        "##### Your Optional implementation starts here #####\n",
        "# You are allowed to choose other language models if you want\n",
        "tokenizer = AutoTokenizer.from_pretrained('distilbert-base-uncased')\n",
        "model = AutoModelForMaskedLM.from_pretrained('distilbert-base-uncased').to(device)\n",
        "##### Your Optional implementation ends here #####"
      ],
      "metadata": {
        "id": "GyML0M08JtIE"
      },
      "execution_count": null,
      "outputs": []
    },
    {
      "cell_type": "markdown",
      "source": [
        "## Prompt engineering"
      ],
      "metadata": {
        "id": "-DPAaPtkKLkS"
      }
    },
    {
      "cell_type": "code",
      "source": [
        "# Prepare the masked predictions in batches\n",
        "unmasked = []\n",
        "# Categories for AG News\n",
        "categories = ['World', 'Sports', 'Business', 'Sci/Tech']\n",
        "\n",
        "##### Your implementation starts here #####\n",
        "prefix =  # string\n",
        "suffix =  # string\n",
        "##### Your implementation ends here #####"
      ],
      "metadata": {
        "id": "XEbHC4WZKLBe"
      },
      "execution_count": null,
      "outputs": []
    },
    {
      "cell_type": "markdown",
      "source": [
        "## Batch inference"
      ],
      "metadata": {
        "id": "MKJDu_BCKSkv"
      }
    },
    {
      "cell_type": "code",
      "source": [
        "batch_size = 32\n",
        "\n",
        "# Function to process batches for mask filling\n",
        "def process_batch(text_batch):\n",
        "    prompts = [prefix + '[MASK]' + suffix + \" \" + text for text in text_batch]\n",
        "    inputs = tokenizer(prompts, return_tensors='pt', padding=True, truncation=True, max_length=128).to(device)\n",
        "    with torch.no_grad():\n",
        "        outputs = model(**inputs)\n",
        "        predictions = outputs.logits\n",
        "    masked_index = (inputs.input_ids == tokenizer.mask_token_id).nonzero(as_tuple=True)[1]\n",
        "    predicted_tokens = [tokenizer.decode(predictions[i, idx].argmax(dim=-1)).strip() for i, idx in enumerate(masked_index)]\n",
        "    return predicted_tokens\n",
        "\n",
        "for i in tqdm(range(0, len(dataset['test']['text']), batch_size)):\n",
        "    text_batch = dataset['test']['text'][i:i+batch_size]\n",
        "    unmasked.extend(process_batch(text_batch))"
      ],
      "metadata": {
        "id": "nKRa78zXKVIr"
      },
      "execution_count": null,
      "outputs": []
    },
    {
      "cell_type": "markdown",
      "source": [
        "## Back-mapping result to the pre-defined categories"
      ],
      "metadata": {
        "id": "BtGXNrEQKV3R"
      }
    },
    {
      "cell_type": "code",
      "source": [
        "# Initialize SentenceTransformer and function for back-mapping\n",
        "matching_model = SentenceTransformer('bert-base-nli-mean-tokens').to(device)\n",
        "\n",
        "def encode_batches(sentences, model, batch_size=64):\n",
        "    embeddings = []\n",
        "    for i in range(0, len(sentences), batch_size):\n",
        "        batch = sentences[i:i+batch_size]\n",
        "        batch_embeddings = model.encode(batch, convert_to_tensor=True, device=device)\n",
        "        embeddings.append(batch_embeddings)\n",
        "    return torch.cat(embeddings)\n",
        "\n",
        "# Predict and evaluate in batches\n",
        "prediction = []\n",
        "for i in tqdm(range(0, len(unmasked), batch_size)):\n",
        "    z_batch = unmasked[i:i+batch_size]\n",
        "    x_batch = dataset['test']['text'][i:i+batch_size]\n",
        "\n",
        "    sentence_batch = []\n",
        "    for z, x in zip(z_batch, x_batch):\n",
        "        sentences = [prefix + cat + suffix + \" \" + x for cat in categories + [z]]\n",
        "        sentence_batch.extend(sentences)\n",
        "\n",
        "    # Encode all sentences at once for this batch\n",
        "    sentence_embeddings = encode_batches(sentence_batch, matching_model, batch_size=512)  # Use a different batch size if necessary\n",
        "\n",
        "    # Calculate predictions using cosine similarity\n",
        "    num_categories = len(categories) + 1\n",
        "    for j in range(len(z_batch)):\n",
        "        start_idx = j * num_categories\n",
        "        end_idx = start_idx + num_categories\n",
        "        back_mapping = cosine_similarity(\n",
        "            [sentence_embeddings[end_idx - 1].cpu().numpy()],\n",
        "            sentence_embeddings[start_idx:end_idx - 1].cpu().numpy()\n",
        "        )\n",
        "        prediction.append(np.argmax(back_mapping))"
      ],
      "metadata": {
        "id": "ea8Kx1a8lt-U"
      },
      "execution_count": null,
      "outputs": []
    },
    {
      "cell_type": "markdown",
      "source": [
        "## Evaluation"
      ],
      "metadata": {
        "id": "7j1H6b-mKn0k"
      }
    },
    {
      "cell_type": "code",
      "source": [
        "# Get the labels and evaluate\n",
        "label = dataset['test']['label']\n",
        "print('F1_macro: ', f1_score(prediction, label, average='macro'))\n",
        "print('F1: ', f1_score(prediction, label, average=None))\n",
        "print('Accuracy: ', accuracy_score(prediction, label))"
      ],
      "metadata": {
        "id": "RU-syMVhKnFE"
      },
      "execution_count": null,
      "outputs": []
    },
    {
      "cell_type": "markdown",
      "source": [
        "# 3. Fine-tune a pretrained LM (>90% accuracy on test set for full credit)\n",
        "\n",
        "* Introduction: Fine-tuning adjusts the weights of a pretrained model specifically to the task at hand, improving performance by adapting the model's deep knowledge to your specific dataset.\n",
        "* Task: Fine-tune a pretrained model on the Ag News dataset.\n",
        "* Details: Choose a transformer model and fine-tune it using the training split of the Ag News dataset. Adjust the learning rate, batch size, and other hyperparameters as necessary.\n",
        "* Model Flexibility: Any transformer-based model that is supported by the Google Colab environment can be used. Ensure the chosen model is manageable within the resource constraints of Colab.\n"
      ],
      "metadata": {
        "id": "q1J3Fx44eI71"
      }
    },
    {
      "cell_type": "code",
      "source": [
        "!pip install datasets\n",
        "!pip install accelerate -U # [Important Note] this package requires to restart runtime/session after install"
      ],
      "metadata": {
        "id": "q-efmGQfeVWc"
      },
      "execution_count": null,
      "outputs": []
    },
    {
      "cell_type": "code",
      "source": [
        "from datasets import load_dataset\n",
        "from transformers import AutoTokenizer, DistilBertForSequenceClassification, Trainer, TrainingArguments\n",
        "import torch\n",
        "from torch.utils.data import random_split\n",
        "\n",
        "# Check if a GPU is available and choose device accordingly\n",
        "device = torch.device(\"cuda\" if torch.cuda.is_available() else \"cpu\")\n",
        "print(\"You are currently using: \", device)\n",
        "\n",
        "# Load the AG News dataset\n",
        "dataset = load_dataset('ag_news')\n",
        "\n",
        "# Load a tokenizer\n",
        "tokenizer = AutoTokenizer.from_pretrained('distilbert-base-uncased')\n",
        "\n",
        "##### Your implementation starts here #####\n",
        "# tokenization\n",
        "\n",
        "##### Your implementation ends here #####\n",
        "\n",
        "# Split the training set to create a validation set\n",
        "train_size = int(0.9 * len(tokenized_datasets['train']))\n",
        "val_size = len(tokenized_datasets['train']) - train_size\n",
        "train_dataset, val_dataset = random_split(tokenized_datasets['train'], [train_size, val_size])\n",
        "\n",
        "##### Your Optional implementation starts here #####\n",
        "# The size of the training set is much larger than what is needed to get a full score for this assignment.\n",
        "# In the pursuit of training speed or debug reason, you may discard a portion of the training data here.\n",
        "\n",
        "##### Your Optional implementation ends here #####"
      ],
      "metadata": {
        "id": "0rrpwCQ__cqs"
      },
      "execution_count": null,
      "outputs": []
    },
    {
      "cell_type": "markdown",
      "source": [
        "## Load the model and trainer setup"
      ],
      "metadata": {
        "id": "JOKbXygGLPfQ"
      }
    },
    {
      "cell_type": "code",
      "source": [
        "# Load the model\n",
        "model = DistilBertForSequenceClassification.from_pretrained('distilbert-base-uncased', num_labels=4).to(device)\n",
        "\n",
        "##### Your Optional implementation starts here #####\n",
        "# define the training_args\n",
        "\n",
        "##### Your Optional implementation ends here #####\n",
        "\n",
        "# Compute metrics\n",
        "def compute_metrics(p):\n",
        "    preds = p.predictions.argmax(-1)\n",
        "    accuracy = (preds == p.label_ids).astype(float).mean()\n",
        "    return {'accuracy': accuracy}\n",
        "\n",
        "# Initialize the Trainer\n",
        "trainer = Trainer(\n",
        "    model=model,\n",
        "    args=training_args,\n",
        "    train_dataset=train_dataset,\n",
        "    eval_dataset=val_dataset,\n",
        "    compute_metrics=compute_metrics,\n",
        ")"
      ],
      "metadata": {
        "id": "5X6T5DUgLO0Y"
      },
      "execution_count": null,
      "outputs": []
    },
    {
      "cell_type": "code",
      "source": [
        "# Train the model\n",
        "trainer.train()"
      ],
      "metadata": {
        "id": "DUXo6PNSLLd5"
      },
      "execution_count": null,
      "outputs": []
    },
    {
      "cell_type": "code",
      "source": [
        "# Evaluate the model\n",
        "results = trainer.evaluate(tokenized_datasets['test'])\n",
        "print(results)"
      ],
      "metadata": {
        "id": "29ChkLgY_m8s"
      },
      "execution_count": null,
      "outputs": []
    }
  ],
  "metadata": {
    "colab": {
      "provenance": [],
      "gpuType": "T4",
      "collapsed_sections": [
        "iCuiGpbyd2uK",
        "doFwqYZNeC3U",
        "q1J3Fx44eI71"
      ]
    },
    "kernelspec": {
      "display_name": "Python 3",
      "name": "python3"
    },
    "accelerator": "GPU"
  },
  "nbformat": 4,
  "nbformat_minor": 0
}